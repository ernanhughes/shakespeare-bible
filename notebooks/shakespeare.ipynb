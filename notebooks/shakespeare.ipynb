{
 "cells": [
  {
   "cell_type": "code",
   "execution_count": null,
   "metadata": {},
   "outputs": [
    {
     "name": "stdout",
     "output_type": "stream",
     "text": [
      "✅ Connected to Milvus & Created Collection!\n"
     ]
    }
   ],
   "source": [
    "import sqlite3\n",
    "import re\n",
    "\n",
    "# Function to create SQLite table for Shakespeare\n",
    "def create_shakespeare_table():\n",
    "    conn = sqlite3.connect(\"shakespeare.db\")\n",
    "    cursor = conn.cursor()\n",
    "    \n",
    "    cursor.execute(\"\"\"\n",
    "        CREATE TABLE IF NOT EXISTS shakespeare_sentences (\n",
    "            id INTEGER PRIMARY KEY AUTOINCREMENT,\n",
    "            sentence TEXT UNIQUE NOT NULL\n",
    "        )\n",
    "    \"\"\")\n",
    "    \n",
    "    conn.commit()\n",
    "    conn.close()\n",
    "    print(\"✅ SQLite table 'shakespeare_sentences' created successfully!\")\n",
    "\n",
    "# Function to split text into sentences & insert into database\n",
    "def insert_shakespeare_sentences(file_path):\n",
    "    conn = sqlite3.connect(\"shakespeare.db\")\n",
    "    cursor = conn.cursor()\n",
    "\n",
    "    with open(file_path, \"r\", encoding=\"utf-8\") as f:\n",
    "        text = f.read()\n",
    "\n",
    "    # Split text into sentences using regex (handles '.', '!', '?')\n",
    "    sentences = re.split(r'(?<=[.!?])\\s+', text)\n",
    "\n",
    "    for sentence in sentences:\n",
    "        cleaned_sentence = sentence.strip()\n",
    "        if cleaned_sentence:\n",
    "            cursor.execute(\"INSERT OR IGNORE INTO shakespeare_sentences (sentence) VALUES (?)\", (cleaned_sentence,))\n",
    "\n",
    "    conn.commit()\n",
    "    conn.close()\n",
    "    print(\"✅ Shakespeare sentences successfully stored in SQLite database!\")\n",
    "\n"
   ]
  },
  {
   "cell_type": "code",
   "execution_count": null,
   "metadata": {},
   "outputs": [
    {
     "name": "stdout",
     "output_type": "stream",
     "text": [
      "✅ SQLite table 'shakespeare_sentences' created successfully!\n",
      "✅ Shakespeare sentences successfully stored in SQLite database!\n"
     ]
    }
   ],
   "source": [
    "create_shakespeare_table()\n",
    "insert_shakespeare_sentences(\"./data/shakespeare.txt\")\n"
   ]
  }
 ],
 "metadata": {
  "kernelspec": {
   "display_name": "venv",
   "language": "python",
   "name": "python3"
  },
  "language_info": {
   "codemirror_mode": {
    "name": "ipython",
    "version": 3
   },
   "file_extension": ".py",
   "mimetype": "text/x-python",
   "name": "python",
   "nbconvert_exporter": "python",
   "pygments_lexer": "ipython3",
   "version": "3.11.4"
  }
 },
 "nbformat": 4,
 "nbformat_minor": 2
}
